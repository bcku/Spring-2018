{
 "cells": [
  {
   "cell_type": "markdown",
   "metadata": {},
   "source": [
    "# section\n",
    "\n",
    "## subsection \n",
    "\n",
    "`this some code`\n",
    "\n",
    "- list1\n",
    "- list2\n",
    "\n",
    "This is a change\n",
    "\n",
    "This is a change made in branch develop"
   ]
  },
  {
   "cell_type": "code",
   "execution_count": null,
   "metadata": {},
   "outputs": [],
   "source": []
  },
  {
   "cell_type": "code",
   "execution_count": null,
   "metadata": {},
   "outputs": [],
   "source": []
  }
 ],
 "metadata": {
  "kernelspec": {
   "display_name": "Python 3",
   "language": "python",
   "name": "python3"
  },
  "language_info": {
   "codemirror_mode": {
    "name": "ipython",
    "version": 3
   },
   "file_extension": ".py",
   "mimetype": "text/x-python",
   "name": "python",
   "nbconvert_exporter": "python",
   "pygments_lexer": "ipython3",
   "version": "3.6.5"
  }
 },
 "nbformat": 4,
 "nbformat_minor": 2
}
