{
 "cells": [
  {
   "cell_type": "markdown",
   "metadata": {},
   "source": [
    "# Markov Chains\n",
    "\n",
    "## Pooh Shapes by Disney\n",
    "### Problem: There are 4 Shape cards: Circle, Square, Triangle, Rectangle. The goal of the game is to get all four shape cards. A dice has six sides: circle, square, triangle, rectangle, any, remove. If you roll 'Any' you get any of the shapes you do not have. If you roll remove, remove one of the shapes you have. If you roll a shape you already have, nothing happens.\n",
    "\n",
    "### The game is over when you have all 4 shape cards.\n",
    "\n",
    "### FIND THE EXPECTED NUMBER OF ROLLS FOR A PLAYER TO COLLECT ALL SHAPES STARTING FROM 0.\n",
    "\n",
    "Game is essentially a Markov Chain with probability matrix:\n",
    "\n",
    "|        A      |        B      |        C      |        D      |        E      |\n",
    "|       ---     |       ---     |       ---     |       ---     |       ---     |\n",
    "| $\\frac{1}{6}$ | $\\frac{5}{6}$ |        0      |        0      |        0      |   \n",
    "| $\\frac{1}{6}$ | $\\frac{1}{6}$ | $\\frac{4}{6}$ |        0      |        0      | \n",
    "|        0      | $\\frac{1}{6}$ | $\\frac{2}{6}$ | $\\frac{3}{6}$ |        0      | \n",
    "|        0      |        0      | $\\frac{1}{6}$ | $\\frac{3}{6}$ | $\\frac{2}{6}$ | \n",
    "|        0      |        0      |        0      |        0      |        1      | \n",
    "\n",
    "with states A, B, C, D, E.\n",
    "\n",
    "A = 0 shape, B = 1 shapes, C = 2 shapes, D = 3 shapes, E = 4 shapes\n",
    "\n",
    "E is an absorbing state and also represents that the game is over because all 4 shapes are found.\n",
    "\n",
    "We can solve using Markov Chain techniques...\n",
    "\n",
    "...or we can also solve by simulation!\n",
    "\n",
    "### Empirical Expected Number of Rolls\n",
    "\n",
    "We will first determine the empirical expected number of rolls by simulaion and then compare with the theoretical expected number. To do this, we will use accumulation, functions, and numpy in Python. We will be simulating the game 100,000 times and find the average number of rolls."
   ]
  },
  {
   "cell_type": "code",
   "execution_count": 36,
   "metadata": {},
   "outputs": [
    {
     "name": "stdout",
     "output_type": "stream",
     "text": [
      "Through simulation, the expected number of rolls for a player to collect all shapes starting from 0 shapes is 9.8958\n"
     ]
    }
   ],
   "source": [
    "#Run this code\n",
    "\n",
    "import numpy\n",
    "\n",
    "def ab(rolls): #function for how many rolls it takes to get from state A to state B\n",
    "    x = numpy.random.rand() #generates random number from 0 to 1\n",
    "    while x < 1/6: #1/6 probability of rolling \"Remove\" so we would still have 0 shape cards\n",
    "        rolls = rolls + 1 #adds a roll to the count\n",
    "        x = numpy.random.rand() #resets the random number\n",
    "    else: #if we get the other 5/6 probability, we move onto state B\n",
    "        rolls = rolls + 1 \n",
    "        x = numpy.random.rand()\n",
    "        return rolls\n",
    "        \n",
    "    \n",
    "def bc(rolls): #function for how many rolls it takes to get from state B to state C\n",
    "    x = numpy.random.rand()\n",
    "    while x < 2/6: #2/6 probability of rolling \"Remove\" or a shape card we already have \n",
    "        if x < 1/6: #1/6 probability of rolling shape card we already have\n",
    "            rolls = rolls + 1\n",
    "            x = numpy.random.rand()\n",
    "        else: #1/6 probability of rolling \"Remove,\" moving us back to state A\n",
    "            rolls = rolls + 1 \n",
    "            rolls = ab(rolls)\n",
    "            x = numpy.random.rand()\n",
    "    else: #if we get the other 4/6 probability, we move onto state C\n",
    "        rolls = rolls + 1\n",
    "        x = numpy.random.rand()\n",
    "        return rolls\n",
    "    \n",
    "def cd(rolls): #function for how many rolls it takes to get from state C to state D\n",
    "    x = numpy.random.rand()\n",
    "    while x < 3/6: #3/6 probability of rolling \"Remove\" or a shape card we already have \n",
    "        if x < 2/6: #2/6 probability of rolling shape card we already have\n",
    "            rolls = rolls + 1\n",
    "            x = numpy.random.rand()\n",
    "        else: #1/6 probability of rolling \"Remove,\" moving us back to state B\n",
    "            rolls = rolls + 1\n",
    "            rolls = bc(rolls)\n",
    "            x = numpy.random.rand()\n",
    "    else: #if we get the other 3/6 probability, we move onto state D\n",
    "        rolls = rolls + 1\n",
    "        x = numpy.random.rand()\n",
    "        return rolls\n",
    "    \n",
    "def de(rolls): #function for how many rolls it takes to get from state D to state E\n",
    "    x = numpy.random.rand()\n",
    "    while x < 4/6: #4/6 probability of rolling \"Remove\" or a shape card we already have \n",
    "        if x < 3/6: #3/6 probability of rolling shape card we already have\n",
    "            rolls = rolls + 1\n",
    "            x = numpy.random.rand()\n",
    "        else: #1/6 probability of rolling \"Remove,\" moving us back to state C\n",
    "            rolls = rolls + 1\n",
    "            rolls = cd(rolls)\n",
    "            x = numpy.random.rand()\n",
    "    else: #if we get the other 2/6 probability, we move onto state E and finish the game\n",
    "        rolls = rolls + 1\n",
    "        x = numpy.random.rand()\n",
    "        return rolls\n",
    "    \n",
    "total = 0\n",
    "for i in range(1,100000): #simiulating 100000 times\n",
    "    rolls = 0\n",
    "    a = ab(rolls)\n",
    "    b = bc(a)\n",
    "    c = cd(b)\n",
    "    d = de(c)\n",
    "    total = total + d\n",
    "    \n",
    "answer = (total/100000)\n",
    "print (\"Through simulation, the expected number of rolls for a player to collect all shapes starting from 0 shapes is\", answer)"
   ]
  },
  {
   "cell_type": "markdown",
   "metadata": {},
   "source": [
    "### Theoretical Expected Number of Rolls\n",
    "\n",
    "Next, we will be solving the theoretical expected number of rolls using Markov Chains techniques.\n",
    "\n",
    "$\\mu_{xy}$ represents the number of steps/rolls it takes to go from state x to state y.\n",
    "\n",
    "Therefore, we must solve this system of equations:\n",
    "\n",
    "$\\mu_{04}$ = 1 + $\\frac{1}{6}$$\\mu_{04}$ + $\\frac{5}{6}$$\\mu_{14}$\n",
    "\n",
    "$\\mu_{14}$ = 1 + $\\frac{1}{6}$$\\mu_{04}$ + $\\frac{1}{6}$$\\mu_{14}$ + $\\frac{4}{6}$$\\mu_{24}$\n",
    "\n",
    "$\\mu_{24}$ = 1 + $\\frac{1}{6}$$\\mu_{14}$ + $\\frac{2}{6}$$\\mu_{24}$ + $\\frac{3}{6}$$\\mu_{34}$\n",
    "\n",
    "$\\mu_{34}$ = 1 + $\\frac{1}{6}$$\\mu_{24}$ + $\\frac{3}{6}$$\\mu_{34}$\n",
    "\n",
    "*$\\mu_{44}$ = 0 because you are already at state 4 so it takes 0 steps.*\n",
    "\n",
    "\n",
    "Rearranging these equations we get the following proper format to solve equations:\n",
    "\n",
    "$\\frac{5}{6}$$\\mu_{04}$ - $\\frac{5}{6}$$\\mu_{14}$ = 1 \n",
    "\n",
    "-$\\frac{1}{6}$$\\mu_{04}$ + $\\frac{5}{6}$$\\mu_{14}$ - $\\frac{4}{6}$$\\mu_{24}$ = 1 \n",
    "\n",
    "-$\\frac{1}{6}$$\\mu_{14}$ + $\\frac{4}{6}$$\\mu_{24}$ - $\\frac{3}{6}$$\\mu_{34}$ = 1 \n",
    "\n",
    "-$\\frac{1}{6}$$\\mu_{24}$ + $\\frac{3}{6}$$\\mu_{34}$ = 1 "
   ]
  },
  {
   "cell_type": "code",
   "execution_count": 35,
   "metadata": {},
   "outputs": [
    {
     "data": {
      "text/plain": [
       "array([ 9.9,  8.7,  6.9,  4.3])"
      ]
     },
     "execution_count": 35,
     "metadata": {},
     "output_type": "execute_result"
    }
   ],
   "source": [
    "#run this code\n",
    "equations = numpy.array([[5/6, -5/6, 0, 0], [-1/6, 5/6, -4/6, 0], [0, -1/6, 4/6, -3/6], [0, 0, -1/6, 3/6]])    \n",
    "solver = numpy.array([1,1,1,1])\n",
    "solved = numpy.linalg.solve(equations, solver)\n",
    "solved"
   ]
  },
  {
   "cell_type": "markdown",
   "metadata": {},
   "source": [
    "In our array, 'solved,' the terms represent $\\mu_{04}$, $\\mu_{14}$, $\\mu_{24}$, $\\mu_{34}$\n",
    "\n",
    "**Therefore, through theoretical calculation using Markov Chain techniques, we find that the expected rolls for a player to collect all shapes starting from 0 is $\\mu_{04}$ or 9.9. This is essentially what we got when we ran our simulation.**"
   ]
  }
 ],
 "metadata": {
  "kernelspec": {
   "display_name": "Python 3",
   "language": "python",
   "name": "python3"
  },
  "language_info": {
   "codemirror_mode": {
    "name": "ipython",
    "version": 3
   },
   "file_extension": ".py",
   "mimetype": "text/x-python",
   "name": "python",
   "nbconvert_exporter": "python",
   "pygments_lexer": "ipython3",
   "version": "3.6.5"
  }
 },
 "nbformat": 4,
 "nbformat_minor": 2
}
